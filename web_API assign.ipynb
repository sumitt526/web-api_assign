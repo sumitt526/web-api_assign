{
 "cells": [
  {
   "cell_type": "markdown",
   "id": "22100ee1-0b92-4222-b11b-f350a504d9d9",
   "metadata": {},
   "source": [
    "# Qsn 1 solution:->\n",
    "\n",
    "API stands for Application Programming Interface, it is a set of rules and protocols that allows different software applications to communicate with each other. APIs serve as a data transmitter between two different pieces of software.\n",
    "\n",
    "A real-life example of an API in use is when you use a service like Uber. When you open the Uber app and log in using your Facebook or Google account, Uber is using APIs provided by Facebook and Google to access some level of your user information. This is an agreement between Uber and these companies that has already happened."
   ]
  },
  {
   "cell_type": "markdown",
   "id": "2c82dce5-347a-4f44-8be7-dc4883891910",
   "metadata": {},
   "source": [
    "# Qsn 2 solution:->\n",
    "\n",
    "# Advantages of using API:->\n",
    "\n",
    "Increased interoperability:-> APIs enable different software systems to communicate with each other, regardless of their programming language or platform.\n",
    "\n",
    "Improved efficiency:-> API-driven infrastructures enable developers to access the functionality of a subset of architecture in many different ways.\n",
    "\n",
    "Flexibility:-> APIs provide flexibility to use completely independent protocols allowing your microservices to communicate among themselves with ease.\n",
    "\n",
    "Easy to understand and learn:-> REST API is easy to understand and learn due to its simplicity.\n",
    "\n",
    "Easy to explore and discover:-> REST API is easy to explore and discover.\n",
    "\n",
    "# Disadvantages of using API:->\n",
    "\n",
    "Complexity:-> APIs may lack flexibility when it comes to customization and features.APIs can be complex, requiring a significant amount of development effort to implement and maintain.\n",
    "\n",
    "Security risks:-> APIs can expose endpoints publicly, which can pose security risks.\n",
    "\n",
    "Lack of control:-> You have no ability to store data outside the API’s domain.\n",
    "\n",
    "Compatibility Issues:-> APIs can have compatibility issues between different versions of the same software system or between different systems, which can lead to errors and system failures.\n",
    "\n",
    "Governance and Management:-> APIs require proper governance and management to ensure they are being used correctly and consistently across different applications and systems."
   ]
  },
  {
   "cell_type": "markdown",
   "id": "a6ef491c-94c9-4832-961c-91372bffb201",
   "metadata": {},
   "source": [
    "# Qsn 3 solution:->\n",
    "\n",
    "a web api is an application programming interface for the web that uses HTTP protocols.It is an Open-Source framework for a web application or web server that communicates between clients and websites for data access.\n",
    "\n",
    "difference between API and web API are listed below:->\n",
    "\n",
    "# API:->\n",
    "1) Can be used locally within an application.\n",
    "2) Can be used for communication between different parts of the same application.\n",
    "3) Can be platform-specific.\n",
    "4) Can use any protocol for communication.\n",
    "5) Can have a closed-source implementation.\n",
    "\n",
    "# Web API:->\n",
    "1) Must be accessed through a network.\n",
    "2) Used for communication between different applications over the internet.\n",
    "3) Platform-independent.\n",
    "4) Uses the HTTP protocol for communication.\n",
    "5) Typically has an open-source implementation."
   ]
  },
  {
   "cell_type": "markdown",
   "id": "46be6616-9c8a-4b62-9620-b08557da5d85",
   "metadata": {},
   "source": [
    "# Qsn 4 solution:->\n",
    "\n",
    "REST (Representational State Transfer):-> is an architectural style for creating lightweight, scalable and maintainable web services. It is a language and platform-independent web service that can be written in any programming language and run on Windows, Linux and Mac. REST uses standard HTTP methods such as GET, POST, PUT and DELETE to query and mutate resources represented by URIs on the Internet.\n",
    "\n",
    "SOAP (Simple Object Access Protocol):-> is a highly strict and secure way to build APIs that encodes data in XML. It is language, platform, and transport independent. SOAP works well in distributed enterprise environments and provides significant pre-build extensibility in the form of the WS standards.\n",
    "\n",
    "Some shortcomings of SOAP include:->\n",
    "1) It can be more complex than REST due to its strict standards.\n",
    "2) It requires more bandwidth due to its use of XML encoding.\n",
    "3) It can be slower than REST due to its use of XML encoding"
   ]
  },
  {
   "cell_type": "markdown",
   "id": "c9c88a7f-fb61-41b8-a8d3-994c927e66f1",
   "metadata": {},
   "source": [
    "# Qsn 5 solution:->\n",
    "Differentiate between REST and SOAP:-\n",
    "\n",
    "1) REST is an architectural style, while SOAP is a protocol.\n",
    "\n",
    "2) REST stands for Representational State Transfer, while SOAP stands for Simple Object Access Protocol.\n",
    "\n",
    "3) REST can use any protocol like HTTP or SOAP, while SOAP can’t use REST because it is a protocol.\n",
    "\n",
    "4) REST uses URI to expose business logic, while SOAP uses service interfaces to expose business logic.\n"
   ]
  },
  {
   "cell_type": "code",
   "execution_count": null,
   "id": "a717fe56-b29c-45de-9ff0-b99586e65aa9",
   "metadata": {},
   "outputs": [],
   "source": []
  }
 ],
 "metadata": {
  "kernelspec": {
   "display_name": "Python 3 (ipykernel)",
   "language": "python",
   "name": "python3"
  },
  "language_info": {
   "codemirror_mode": {
    "name": "ipython",
    "version": 3
   },
   "file_extension": ".py",
   "mimetype": "text/x-python",
   "name": "python",
   "nbconvert_exporter": "python",
   "pygments_lexer": "ipython3",
   "version": "3.10.8"
  }
 },
 "nbformat": 4,
 "nbformat_minor": 5
}
